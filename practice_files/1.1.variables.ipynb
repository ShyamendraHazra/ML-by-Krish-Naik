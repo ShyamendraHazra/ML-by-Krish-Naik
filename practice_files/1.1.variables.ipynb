{
 "cells": [
  {
   "cell_type": "markdown",
   "metadata": {},
   "source": [
    "- # Introduction to Variables\n",
    "- # Declaring and Assigning Variable\n",
    "- # Naming Conventions\n",
    "- # Understanding Variable Types\n",
    "- # Type Checking and Converion\n",
    "- # Dynamic Typing\n",
    "- # Practical Examples and Common Errors "
   ]
  },
  {
   "cell_type": "markdown",
   "metadata": {},
   "source": []
  },
  {
   "cell_type": "code",
   "execution_count": null,
   "metadata": {},
   "outputs": [],
   "source": [
    "a=100"
   ]
  },
  {
   "cell_type": "code",
   "execution_count": 1,
   "metadata": {},
   "outputs": [
    {
     "name": "stdout",
     "output_type": "stream",
     "text": [
      "age :  21\n",
      "height :  5.6\n",
      "name :  Shyam\n"
     ]
    }
   ],
   "source": [
    "## Declaring and assigning variables\n",
    "\n",
    "age = 21\n",
    "height = 5.6\n",
    "name = \"Shyam\"\n",
    "is_student = True\n",
    "\n",
    "## printng the variables\n",
    "\n",
    "print(\"age : \", age)\n",
    "print(\"height : \", height)\n",
    "print(\"name : \", name)"
   ]
  },
  {
   "cell_type": "code",
   "execution_count": null,
   "metadata": {},
   "outputs": [],
   "source": [
    "## Naming convetion\n",
    "## Variable name should be descriptive\n",
    "## They must always start with a letter or and '_' and can contain letter , number and underscores\n",
    "## variable names are case sensitive\n",
    "\n",
    "## valid variable name\n",
    "\n",
    "first_name = \"Shyamendra\"\n",
    "last_name = \"Hazra\""
   ]
  },
  {
   "cell_type": "code",
   "execution_count": 3,
   "metadata": {},
   "outputs": [],
   "source": [
    "# Invalid variable names\n",
    "# 2age = 20;\n",
    "# first-name = \"Hary\"\n",
    "# @last_name = \"sen\""
   ]
  },
  {
   "cell_type": "code",
   "execution_count": 4,
   "metadata": {},
   "outputs": [
    {
     "data": {
      "text/plain": [
       "False"
      ]
     },
     "execution_count": 4,
     "metadata": {},
     "output_type": "execute_result"
    }
   ],
   "source": [
    "# case sensitivity\n",
    "name = \"Shyam\"\n",
    "Name = \"Hazra\"\n",
    "\n",
    "name == Name"
   ]
  },
  {
   "cell_type": "code",
   "execution_count": 7,
   "metadata": {},
   "outputs": [
    {
     "name": "stdout",
     "output_type": "stream",
     "text": [
      "25\n",
      "<class 'int'>\n",
      "25\n",
      "<class 'str'>\n",
      "5.6\n",
      "<class 'float'>\n",
      "5\n",
      "<class 'int'>\n",
      "5.0\n",
      "<class 'float'>\n"
     ]
    }
   ],
   "source": [
    "## Type conversion \n",
    "\n",
    "age = 25\n",
    "print(age)\n",
    "print(type(age))\n",
    "\n",
    "age = str(age)\n",
    "print(age)\n",
    "print(type(age))\n",
    "\n",
    "print(height)\n",
    "print(type(height))\n",
    "\n",
    "height = int(height)\n",
    "print(height)\n",
    "print(type(height))\n",
    "\n",
    "height = float(height)\n",
    "print(height)\n",
    "print(type(height))"
   ]
  },
  {
   "cell_type": "code",
   "execution_count": 9,
   "metadata": {},
   "outputs": [
    {
     "name": "stdout",
     "output_type": "stream",
     "text": [
      "10 <class 'int'>\n",
      "Hello <class 'str'>\n",
      "3.17 <class 'float'>\n"
     ]
    }
   ],
   "source": [
    "# Dynamic Typing\n",
    "# Python allow type casting at runtime\n",
    "\n",
    "\n",
    "val = 10\n",
    "print(val, type(val))\n",
    "\n",
    "\n",
    "val = \"Hello\"\n",
    "print(val, type(val))\n",
    "\n",
    "val = 3.17\n",
    "print(val, type(val))"
   ]
  },
  {
   "cell_type": "code",
   "execution_count": 12,
   "metadata": {},
   "outputs": [
    {
     "name": "stdout",
     "output_type": "stream",
     "text": [
      "22 <class 'str'>\n",
      "21 <class 'int'>\n"
     ]
    }
   ],
   "source": [
    "# Input \n",
    "age = input(\"What is your age\")\n",
    "print(age, type(age))\n",
    "\n",
    "age = int(input(\"What is your age again?\"))\n",
    "print(age, type(age))"
   ]
  },
  {
   "cell_type": "code",
   "execution_count": 13,
   "metadata": {},
   "outputs": [
    {
     "name": "stdout",
     "output_type": "stream",
     "text": [
      "sum ::  43.0\n",
      "difference ::  1.0\n",
      "multiplication ::  462.0\n",
      "division ::  1.0476190476190477\n"
     ]
    }
   ],
   "source": [
    "# Simple calculator in python\n",
    "\n",
    "num_one = float(input(\"Enter Num one :: \"))\n",
    "num_two = float(input(\"Enter Num two :: \"))\n",
    "\n",
    "sum = num_one + num_two\n",
    "difference = num_one - num_two\n",
    "multiplication = num_one * num_two\n",
    "division  = num_one / num_two\n",
    "\n",
    "print(\"sum :: \", sum)\n",
    "print(\"difference :: \", difference)\n",
    "print(\"multiplication :: \", multiplication)\n",
    "print(\"division :: \", division)"
   ]
  }
 ],
 "metadata": {
  "kernelspec": {
   "display_name": "Python 3",
   "language": "python",
   "name": "python3"
  },
  "language_info": {
   "codemirror_mode": {
    "name": "ipython",
    "version": 3
   },
   "file_extension": ".py",
   "mimetype": "text/x-python",
   "name": "python",
   "nbconvert_exporter": "python",
   "pygments_lexer": "ipython3",
   "version": "3.10.0"
  }
 },
 "nbformat": 4,
 "nbformat_minor": 2
}
